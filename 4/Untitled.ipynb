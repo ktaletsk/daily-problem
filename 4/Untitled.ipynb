{
 "cells": [
  {
   "cell_type": "code",
   "execution_count": 139,
   "metadata": {},
   "outputs": [],
   "source": [
    "from typing import List\n",
    "from math import floor, ceil\n",
    "\n",
    "def median(nums: List[int]) -> float:\n",
    "    l = len(nums)\n",
    "    if l%2 == 1:\n",
    "        return (l-1)//2, nums[(l-1)//2]\n",
    "    else:\n",
    "        return l//2-0.5, (nums[l//2-1]+nums[l//2])/2\n",
    "\n",
    "def clip(nums1, nums2):\n",
    "    # Find medians\n",
    "    median1 = median(nums1)\n",
    "    median2 = median(nums2)\n",
    "    \n",
    "    # clip equal number of elements from both arrays\n",
    "    if median1[1]>median2[1]:\n",
    "        d = ceil(min(median2[0], len(nums1)-1-median1[0]))\n",
    "        nums1 = nums1[:-d]\n",
    "        nums2 = nums2[d:]\n",
    "    else:\n",
    "        d = ceil(min(median1[0], len(nums2)-1-median2[0]))\n",
    "        nums1 = nums1[d:]\n",
    "        nums2 = nums2[:-d]\n",
    "    return nums1, nums2\n",
    "\n",
    "def findMedianSortedArrays(nums1: List[int], nums2: List[int]) -> float:\n",
    "    if len(nums1)==0:\n",
    "        return median(nums2)[1]\n",
    "    if len(nums2)==0:\n",
    "        return median(nums1)[1]\n",
    "    if median(nums1)[1]==median(nums2)[1]:\n",
    "        return median(nums1)[1]\n",
    "\n",
    "    while len(nums1)>1 and len(nums2)>1:\n",
    "        nums1, nums2 = clip(nums1, nums2)\n",
    "        print(nums1, nums2)\n",
    "\n",
    "    if len(nums1)==1 and len(nums2)==1:\n",
    "        return (nums1[0]+nums2[0])/2\n",
    "    \n",
    "    if len(nums1)==1:\n",
    "        short = nums1\n",
    "        long = nums2\n",
    "    else:\n",
    "        short = nums2\n",
    "        long = nums1\n",
    "\n",
    "    m = median(long)[0]\n",
    "    if short[0] > median(long)[1]:\n",
    "        if len(long)%2 == 1:\n",
    "            r = (long[m] + min(long[m+1], short[0]))/2\n",
    "        else:\n",
    "            r = long[int(m+0.5)]\n",
    "    else:\n",
    "        if len(long)%2 == 1:\n",
    "            r = (long[m] + max(long[m-1], short[0]))/2\n",
    "        else:\n",
    "            r = long[int(m-0.5)]\n",
    "    return r"
   ]
  },
  {
   "cell_type": "code",
   "execution_count": 173,
   "metadata": {},
   "outputs": [
    {
     "name": "stdout",
     "output_type": "stream",
     "text": [
      "Array 1:  [0, 1, 40]\n",
      "Array 2:  [8, 9, 10]\n",
      "True answer: 8.5\n",
      "[1, 40] [8, 9]\n",
      "[1] [9]\n",
      "Calculated answer: 5.0\n"
     ]
    }
   ],
   "source": [
    "nums1 = [0,1,40]\n",
    "nums2 = [8,9,10]\n",
    "print('Array 1: ', nums1)\n",
    "print('Array 2: ', nums2)\n",
    "print(f'True answer: {median(sorted(nums1+nums2))[1]}')\n",
    "print(f'Calculated answer: {findMedianSortedArrays(nums1, nums2)}')"
   ]
  },
  {
   "cell_type": "code",
   "execution_count": null,
   "metadata": {},
   "outputs": [],
   "source": []
  },
  {
   "cell_type": "code",
   "execution_count": null,
   "metadata": {},
   "outputs": [],
   "source": []
  }
 ],
 "metadata": {
  "kernelspec": {
   "display_name": "Python 3",
   "language": "python",
   "name": "python3"
  },
  "language_info": {
   "codemirror_mode": {
    "name": "ipython",
    "version": 3
   },
   "file_extension": ".py",
   "mimetype": "text/x-python",
   "name": "python",
   "nbconvert_exporter": "python",
   "pygments_lexer": "ipython3",
   "version": "3.7.4"
  }
 },
 "nbformat": 4,
 "nbformat_minor": 4
}
