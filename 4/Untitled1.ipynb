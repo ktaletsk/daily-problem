{
 "cells": [
  {
   "cell_type": "code",
   "execution_count": 174,
   "metadata": {},
   "outputs": [],
   "source": [
    "def binarySearch(ar, s):\n",
    "    start = 0\n",
    "    end = len(ar)-1\n",
    "\n",
    "    while start<=end:\n",
    "        x = (start+end)//2\n",
    "        if ar[x]==s:\n",
    "            return x\n",
    "        elif ar[x]>s:\n",
    "            end = x - 1\n",
    "        else:\n",
    "            start = x + 1\n",
    "    raise ValueError"
   ]
  },
  {
   "cell_type": "code",
   "execution_count": 175,
   "metadata": {},
   "outputs": [
    {
     "data": {
      "text/plain": [
       "0"
      ]
     },
     "execution_count": 175,
     "metadata": {},
     "output_type": "execute_result"
    }
   ],
   "source": [
    "binarySearch([1,3,12,15,99], 1)"
   ]
  },
  {
   "cell_type": "code",
   "execution_count": 186,
   "metadata": {},
   "outputs": [],
   "source": [
    "def partition(nums1, nums2, x):\n",
    "    y = (len(nums1)+len(nums2)+1)//2 - x\n",
    "    return (nums1[:x],nums2[:y],nums1[x:],nums2[y:])"
   ]
  },
  {
   "cell_type": "code",
   "execution_count": 257,
   "metadata": {},
   "outputs": [],
   "source": [
    "def findMedian(nums1, nums2):\n",
    "    if len(nums2)<len(nums1):\n",
    "        nums1, nums2 = nums2, nums1\n",
    "    \n",
    "    start = 0\n",
    "    end = len(nums1)\n",
    "    \n",
    "    while True:\n",
    "        x = (start+end)//2\n",
    "        y = (len(nums1)+len(nums2)+1)//2 - x\n",
    "\n",
    "        cond1 = (nums1[x-1] if x>0 else float('-inf')) <= (nums2[y] if y<len(nums2) else float('inf'))\n",
    "        cond2 = (nums2[y-1] if y>0 else float('-inf')) <= (nums1[x] if x<len(nums1) else float('inf'))\n",
    "        print(nums1, nums2, x, y, partition(nums1, nums2, x), cond1, cond2)\n",
    "\n",
    "        if cond1 and cond2:\n",
    "            if (len(nums1) + len(nums2)) % 2 == 0:\n",
    "                return (max(nums1[x-1] if x>0 else float('-inf'),nums2[y-1] if y>0 else float('-inf'))+min(nums1[x] if x<len(nums1) else float('inf'), nums2[y] if y<len(nums2) else float('inf')))/2\n",
    "            else:\n",
    "                return max(nums1[x-1] if x>0 and x<=len(nums1) else float('-inf'),nums2[y-1] if y>0 and y<=len(nums2) else float('-inf'))\n",
    "            \n",
    "        elif cond1:\n",
    "            start = x + 1\n",
    "        else:\n",
    "            end = x - 1"
   ]
  },
  {
   "cell_type": "code",
   "execution_count": 259,
   "metadata": {},
   "outputs": [
    {
     "name": "stdout",
     "output_type": "stream",
     "text": [
      "[-2, -1, 3]\n",
      "[3] [-2, -1] 0 2 ([], [-2, -1], [3], []) True True\n"
     ]
    },
    {
     "data": {
      "text/plain": [
       "-1"
      ]
     },
     "execution_count": 259,
     "metadata": {},
     "output_type": "execute_result"
    }
   ],
   "source": [
    "nums1 = [3]\n",
    "nums2 = [-2,-1]\n",
    "\n",
    "print(sorted(nums1+nums2))\n",
    "findMedian(nums1,nums2)"
   ]
  },
  {
   "cell_type": "code",
   "execution_count": null,
   "metadata": {},
   "outputs": [],
   "source": []
  },
  {
   "cell_type": "code",
   "execution_count": null,
   "metadata": {},
   "outputs": [],
   "source": []
  }
 ],
 "metadata": {
  "kernelspec": {
   "display_name": "Python 3",
   "language": "python",
   "name": "python3"
  },
  "language_info": {
   "codemirror_mode": {
    "name": "ipython",
    "version": 3
   },
   "file_extension": ".py",
   "mimetype": "text/x-python",
   "name": "python",
   "nbconvert_exporter": "python",
   "pygments_lexer": "ipython3",
   "version": "3.7.4"
  }
 },
 "nbformat": 4,
 "nbformat_minor": 4
}
