{
 "cells": [
  {
   "cell_type": "code",
   "execution_count": 75,
   "metadata": {},
   "outputs": [],
   "source": [
    "def maxProfit(prices):\n",
    "    local_minima = []\n",
    "    local_maxima = []\n",
    "    # Find local minima and maxima\n",
    "    for i in range(len(prices)):\n",
    "        if (True if i==0 else prices[i]>prices[i-1]) and (True if i==len(prices)-1 else prices[i]>=prices[i+1]):\n",
    "            local_maxima.append(i)\n",
    "        if (True if i==0 else prices[i]<=prices[i-1]) and (True if i==len(prices)-1 else prices[i]<prices[i+1]):\n",
    "            local_minima.append(i)\n",
    "    \n",
    "    profit = 0\n",
    "    if len(local_minima)==0 and len(local_maxima)==0:\n",
    "        return profit\n",
    "    min_index = 0\n",
    "    max_index = 0\n",
    "    while local_maxima[max_index]<local_minima[min_index] and max_index < len(local_maxima)-1:\n",
    "        max_index += 1\n",
    "    if local_maxima[max_index]<local_minima[min_index]:\n",
    "        return profit\n",
    "    # guarantee to find first “run”\n",
    "\n",
    "    \n",
    "    while max_index < len(local_maxima):\n",
    "        profit += prices[local_maxima[max_index]] - prices[local_minima[min_index]]\n",
    "        min_index += 1\n",
    "        max_index += 1\n",
    "\n",
    "    return profit"
   ]
  },
  {
   "cell_type": "code",
   "execution_count": 76,
   "metadata": {},
   "outputs": [
    {
     "data": {
      "text/plain": [
       "7"
      ]
     },
     "execution_count": 76,
     "metadata": {},
     "output_type": "execute_result"
    }
   ],
   "source": [
    "maxProfit([7,1,5,3,6,4])"
   ]
  },
  {
   "cell_type": "code",
   "execution_count": 77,
   "metadata": {},
   "outputs": [
    {
     "data": {
      "text/plain": [
       "4"
      ]
     },
     "execution_count": 77,
     "metadata": {},
     "output_type": "execute_result"
    }
   ],
   "source": [
    "maxProfit([1,2,3,4,5])"
   ]
  },
  {
   "cell_type": "code",
   "execution_count": 78,
   "metadata": {},
   "outputs": [
    {
     "data": {
      "text/plain": [
       "0"
      ]
     },
     "execution_count": 78,
     "metadata": {},
     "output_type": "execute_result"
    }
   ],
   "source": [
    "maxProfit([7,6,4,3,1])"
   ]
  },
  {
   "cell_type": "code",
   "execution_count": 79,
   "metadata": {},
   "outputs": [
    {
     "data": {
      "text/plain": [
       "0"
      ]
     },
     "execution_count": 79,
     "metadata": {},
     "output_type": "execute_result"
    }
   ],
   "source": [
    "maxProfit([1,1,1,1])"
   ]
  },
  {
   "cell_type": "code",
   "execution_count": 80,
   "metadata": {},
   "outputs": [
    {
     "data": {
      "text/plain": [
       "3"
      ]
     },
     "execution_count": 80,
     "metadata": {},
     "output_type": "execute_result"
    }
   ],
   "source": [
    "maxProfit([2,2,5])"
   ]
  },
  {
   "cell_type": "code",
   "execution_count": null,
   "metadata": {},
   "outputs": [],
   "source": []
  }
 ],
 "metadata": {
  "kernelspec": {
   "display_name": "Python 3",
   "language": "python",
   "name": "python3"
  },
  "language_info": {
   "codemirror_mode": {
    "name": "ipython",
    "version": 3
   },
   "file_extension": ".py",
   "mimetype": "text/x-python",
   "name": "python",
   "nbconvert_exporter": "python",
   "pygments_lexer": "ipython3",
   "version": "3.7.4"
  }
 },
 "nbformat": 4,
 "nbformat_minor": 4
}
